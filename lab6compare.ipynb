{
 "cells": [
  {
   "cell_type": "markdown",
   "id": "05e28866-203f-4239-8a0c-14f373516d69",
   "metadata": {},
   "source": [
    "### Check Model"
   ]
  },
  {
   "cell_type": "code",
   "execution_count": 2,
   "id": "53aa0e12-ead4-46bd-982a-62bedaa09016",
   "metadata": {},
   "outputs": [
    {
     "name": "stdout",
     "output_type": "stream",
     "text": [
      "Input heights: [[0], [50], [100], [150], [175], [200]]\n",
      "Predicted weights are: [-166.29034128   -1.39346992   13.32603623   41.40189304   56.42986106\n",
      "   44.77557652]\n"
     ]
    }
   ],
   "source": [
    "import pickle\n",
    "filename = 'finalized_model.sav'\n",
    "loaded_model = pickle.load(open(filename, 'rb'))\n",
    "\n",
    "# Heights to check\n",
    "heights = [[0], [50], [100], [150], [175], [200]]\n",
    "weights = loaded_model.predict(heights)\n",
    "print('Input heights:', heights)\n",
    "print('Predicted weights are:', weights)"
   ]
  },
  {
   "cell_type": "code",
   "execution_count": null,
   "id": "705ab0c7-54f4-45f3-8834-a7b94dc9b72f",
   "metadata": {},
   "outputs": [],
   "source": []
  }
 ],
 "metadata": {
  "kernelspec": {
   "display_name": "Python 3 (ipykernel)",
   "language": "python",
   "name": "python3"
  },
  "language_info": {
   "codemirror_mode": {
    "name": "ipython",
    "version": 3
   },
   "file_extension": ".py",
   "mimetype": "text/x-python",
   "name": "python",
   "nbconvert_exporter": "python",
   "pygments_lexer": "ipython3",
   "version": "3.9.12"
  }
 },
 "nbformat": 4,
 "nbformat_minor": 5
}
